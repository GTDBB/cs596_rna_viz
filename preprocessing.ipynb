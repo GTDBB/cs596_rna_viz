{
 "cells": [
  {
   "cell_type": "code",
   "execution_count": 1,
   "metadata": {},
   "outputs": [],
   "source": [
    "import json\n",
    "import subprocess"
   ]
  },
  {
   "cell_type": "code",
   "execution_count": 2,
   "metadata": {},
   "outputs": [],
   "source": [
    "path = './openvac_data/'\n",
    "filenames = ['test', 'train']\n",
    "content = []\n",
    "for file in filenames:\n",
    "    with open(path+file+'.json') as f:\n",
    "        for line in f:\n",
    "            test = json.loads(line)\n",
    "            content.append(test)\n",
    "    for pdb in content:\n",
    "        command = [\"python\", './spqr/tools/SPQR_ASSEMBLE.py', '-s', pdb['sequence'], '-t',\n",
    "                        pdb['structure'], '-o', './pdb_file/'+ file +'/init_' + str(pdb['index']) ]\n",
    "        subprocess.call(command)\n",
    "        \n"
   ]
  },
  {
   "cell_type": "code",
   "execution_count": null,
   "metadata": {},
   "outputs": [],
   "source": []
  }
 ],
 "metadata": {
  "kernelspec": {
   "display_name": "Python 2",
   "language": "python",
   "name": "python2"
  },
  "language_info": {
   "codemirror_mode": {
    "name": "ipython",
    "version": 2
   },
   "file_extension": ".py",
   "mimetype": "text/x-python",
   "name": "python",
   "nbconvert_exporter": "python",
   "pygments_lexer": "ipython2",
   "version": "2.7.18"
  }
 },
 "nbformat": 4,
 "nbformat_minor": 4
}
